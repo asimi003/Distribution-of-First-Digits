{
 "cells": [
  {
   "cell_type": "markdown",
   "metadata": {
    "colab_type": "text",
    "id": "__1JBcfGnOHj"
   },
   "source": [
    "# The Distribution of First Digits\n",
    "\n",
    "In this lab, you will explore the distribution of first digits in real data. For example, the first digits of the numbers 52, 30.8, and 0.07 are 5, 3, and 7 respectively. In this lab, you will investigate the question: how frequently does each digit 1-9 appear as the first digit of the number?\n"
   ]
  },
  {
   "cell_type": "markdown",
   "metadata": {
    "colab_type": "text",
    "id": "iJ0is3PhnOHl"
   },
   "source": [
    "## Question 0\n",
    "\n",
    "Make a prediction. \n",
    "\n",
    "1. Approximately what percentage of the values do you think will have a _first_ digit of 1? What percentage of the values do you think will have a first digit of 9?\n",
    "2. Approximately what percentage of the values do you think will have a _last_ digit of 1? What percentage of the values do you think will have a last digit of 9?\n",
    "\n",
    "(Don't worry about being wrong. You will earn full credit for any justified answer.)"
   ]
  },
  {
   "cell_type": "markdown",
   "metadata": {
    "colab_type": "text",
    "id": "D4Kxu2djnOHm"
   },
   "source": [
    "**ENTER YOUR WRITTEN EXPLANATION HERE.** <br>\n",
    "We think that about 30% the values will start with 1 and 5% will start with 9. This is because usually first digits in a string are 1s and then random numbers follow and so on. Therefore, we believe that there will be a high percentage of 1s rather than 9s.  <br>\n",
    "We think that about 10% will end with 1 and 10% will end with 9. This is because since it is the last digit in a string, any number can have a possibilty of being at the end. There isnt a usual way of ending the strings like there is with beginning them so it can be any random number from 1-9 as the last digit of the string so that means that all numbers 1-9 will have about 10% possibility of being the last digit."
   ]
  },
  {
   "cell_type": "markdown",
   "metadata": {
    "colab_type": "text",
    "id": "Dyc5U7u7nOHn"
   },
   "source": [
    "## Question 1\n",
    "\n",
    "The [S&P 500](https://en.wikipedia.org/wiki/S%26P_500_Index) is a stock index based on the market capitalizations of large companies that are publicly traded on the NYSE or NASDAQ. The CSV file `sp500.csv` contains data from February 1, 2018 about the stocks that comprise the S&P 500. We will investigate the first digit distributions of the variables in this data set.\n",
    "\n",
    "Read in the S&P 500 data. What is the unit of observation in this data set? Is there a variable that is natural to use as the index? If so, set that variable to be the index. Once you are done, display the `DataFrame`."
   ]
  },
  {
   "cell_type": "code",
   "execution_count": 1,
   "metadata": {
    "colab": {},
    "colab_type": "code",
    "id": "vX2M_vUAnOHr",
    "outputId": "9e1819ee-c8d0-441c-f9cc-5e1bc8558716"
   },
   "outputs": [
    {
     "data": {
      "text/html": [
       "<div>\n",
       "<style scoped>\n",
       "    .dataframe tbody tr th:only-of-type {\n",
       "        vertical-align: middle;\n",
       "    }\n",
       "\n",
       "    .dataframe tbody tr th {\n",
       "        vertical-align: top;\n",
       "    }\n",
       "\n",
       "    .dataframe thead th {\n",
       "        text-align: right;\n",
       "    }\n",
       "</style>\n",
       "<table border=\"1\" class=\"dataframe\">\n",
       "  <thead>\n",
       "    <tr style=\"text-align: right;\">\n",
       "      <th></th>\n",
       "      <th>date</th>\n",
       "      <th>open</th>\n",
       "      <th>close</th>\n",
       "      <th>volume</th>\n",
       "    </tr>\n",
       "    <tr>\n",
       "      <th>Name</th>\n",
       "      <th></th>\n",
       "      <th></th>\n",
       "      <th></th>\n",
       "      <th></th>\n",
       "    </tr>\n",
       "  </thead>\n",
       "  <tbody>\n",
       "    <tr>\n",
       "      <th>AAL</th>\n",
       "      <td>2018-02-01</td>\n",
       "      <td>$54.00</td>\n",
       "      <td>$53.88</td>\n",
       "      <td>3623078</td>\n",
       "    </tr>\n",
       "    <tr>\n",
       "      <th>AAPL</th>\n",
       "      <td>2018-02-01</td>\n",
       "      <td>$167.16</td>\n",
       "      <td>$167.78</td>\n",
       "      <td>47230787</td>\n",
       "    </tr>\n",
       "    <tr>\n",
       "      <th>AAP</th>\n",
       "      <td>2018-02-01</td>\n",
       "      <td>$116.24</td>\n",
       "      <td>$117.29</td>\n",
       "      <td>760629</td>\n",
       "    </tr>\n",
       "    <tr>\n",
       "      <th>ABBV</th>\n",
       "      <td>2018-02-01</td>\n",
       "      <td>$112.24</td>\n",
       "      <td>$116.34</td>\n",
       "      <td>9943452</td>\n",
       "    </tr>\n",
       "    <tr>\n",
       "      <th>ABC</th>\n",
       "      <td>2018-02-01</td>\n",
       "      <td>$97.74</td>\n",
       "      <td>$99.29</td>\n",
       "      <td>2786798</td>\n",
       "    </tr>\n",
       "  </tbody>\n",
       "</table>\n",
       "</div>"
      ],
      "text/plain": [
       "            date     open    close    volume\n",
       "Name                                        \n",
       "AAL   2018-02-01   $54.00   $53.88   3623078\n",
       "AAPL  2018-02-01  $167.16  $167.78  47230787\n",
       "AAP   2018-02-01  $116.24  $117.29    760629\n",
       "ABBV  2018-02-01  $112.24  $116.34   9943452\n",
       "ABC   2018-02-01   $97.74   $99.29   2786798"
      ]
     },
     "execution_count": 1,
     "metadata": {},
     "output_type": "execute_result"
    }
   ],
   "source": [
    "# ENTER YOUR CODE HERE.\n",
    "import pandas as pd\n",
    "df = pd.read_csv(\"sp500.csv\")\n",
    "df = df.set_index('Name')\n",
    "df.sort_index()\n",
    "df.head()"
   ]
  },
  {
   "cell_type": "markdown",
   "metadata": {
    "colab_type": "text",
    "id": "7QlsiUNInOHz"
   },
   "source": [
    "**ENTER YOUR WRITTEN EXPLANATION HERE.**<br>\n",
    "The unit of observation is the companies in the S&P 500. We chose this because we are trying to see the values of the cost of the open and close data for each company so we are observing the data for each company.<br> \n",
    "The name is the variable that could be the index and can be sorted alphabetically. It is very simple to identify the company by its name and easily look it up  the data for the company that way and by making it alphabetized it is easier to scroll through and find the necessary data."
   ]
  },
  {
   "cell_type": "markdown",
   "metadata": {
    "colab_type": "text",
    "id": "GKW3GDWYnOHz"
   },
   "source": [
    "## Question 2\n",
    "\n",
    "We will start by looking at the `volume` column. This variable tells us how many shares were traded on that date.\n",
    "\n",
    "Extract the first digit of every value in this column. (_Hint:_ First, turn the numbers into strings. Then, use the [text processing functionalities](https://pandas.pydata.org/pandas-docs/stable/text.html) of `pandas` to extract the first character of each string.) Make an appropriate visualization to display the distribution of the first digits. (_Hint:_ Think carefully about whether the variable you are plotting is quantitative or categorical.)\n",
    "\n",
    "How does this compare with what you predicted in Question 0?"
   ]
  },
  {
   "cell_type": "code",
   "execution_count": 2,
   "metadata": {
    "colab": {},
    "colab_type": "code",
    "id": "MyTVgillnOH0",
    "outputId": "e828b101-6fe7-47ad-f0ed-81b83a0ee9f4"
   },
   "outputs": [
    {
     "name": "stdout",
     "output_type": "stream",
     "text": [
      "1    165\n",
      "2     93\n",
      "3     59\n",
      "4     43\n",
      "5     41\n",
      "6     36\n",
      "7     25\n",
      "8     22\n",
      "9     21\n",
      "Name: volume, dtype: int64\n"
     ]
    },
    {
     "data": {
      "image/png": "[encoded data removed]",
      "text/plain": [
       "<Figure size 432x288 with 1 Axes>"
      ]
     },
     "metadata": {
      "needs_background": "light"
     },
     "output_type": "display_data"
    }
   ],
   "source": [
    "# ENTER YOUR CODE HERE.\n",
    "df.volume = df.volume.apply(str)\n",
    "# print(df.dtypes)\n",
    "# Get the frequencey of each value of the series \"df.quantity.str[1]\"\n",
    "digit_frequency = df.volume.str[0].value_counts()\n",
    "print(digit_frequency)\n",
    "import matplotlib.pyplot as plt\n",
    "%matplotlib inline\n",
    "plt.bar(digit_frequency.index,digit_frequency)\n",
    "plt.show()"
   ]
  },
  {
   "cell_type": "markdown",
   "metadata": {
    "colab_type": "text",
    "id": "Gg3msmSZnOIE"
   },
   "source": [
    "**ENTER YOUR WRITTEN EXPLANATION HERE.**<br> \n",
    "In our prediction we said that 1 would appear the most as the first digit, which was correct, but 1 appears way more often then we predicted; however, we predicited that 9 would appear the least and at a very small percentage, which was correct as seen in the bar graph.\n",
    "As we see in the bar graph, the frequency of the numbers 1-9 appearing as the first digit gets lower and lower as we go through the numbers 1-9 respectively. This shows that 1 has the highest count for being the first digit and 9 has the lowest count (and 2 has the second highest and so forth). AS we go doen the list of numbers 1-9 respectively, there is a decrease in frequency when counting the amount of times that specific number appears as the first digit. This is because usually first digits in a string, when it comes to identifying something like the voulume #/string, are 1s and then random numbers follow. Then, it moves onto 2s then 3s and so on. That is why 9 being the first digit happens the least often (has the smallest frequecy). Therefore,  there that is why there is a high percentage of 1s rather than 9s."
   ]
  },
  {
   "cell_type": "markdown",
   "metadata": {
    "colab_type": "text",
    "id": "fw4kZAVmnOIF"
   },
   "source": [
    "## Question 3\n",
    "\n",
    "Now, repeat Question 2, but for the distribution of _last_ digits. Again, make an appropriate visualization and compare with your prediction in Question 0."
   ]
  },
  {
   "cell_type": "code",
   "execution_count": 3,
   "metadata": {
    "colab": {},
    "colab_type": "code",
    "id": "oovgcTUFnOIL"
   },
   "outputs": [
    {
     "name": "stdout",
     "output_type": "stream",
     "text": [
      "8    56\n",
      "2    56\n",
      "9    53\n",
      "1    53\n",
      "7    52\n",
      "0    52\n",
      "6    51\n",
      "3    48\n",
      "5    44\n",
      "4    40\n",
      "Name: volume, dtype: int64\n"
     ]
    },
    {
     "data": {
      "image/png": "[encoded data removed]",
      "text/plain": [
       "<Figure size 432x288 with 1 Axes>"
      ]
     },
     "metadata": {
      "needs_background": "light"
     },
     "output_type": "display_data"
    }
   ],
   "source": [
    "# ENTER YOUR CODE HERE.\n",
    "df.volume = df.volume.apply(str)\n",
    "# print(df.dtypes)\n",
    "# Get the frequencey of each value of the series \"df.quantity.str[1]\"\n",
    "digit_frequency = df.volume.str[-1].value_counts()\n",
    "print(digit_frequency)\n",
    "import matplotlib.pyplot as plt\n",
    "%matplotlib inline\n",
    "plt.bar(digit_frequency.index,digit_frequency)\n",
    "plt.show()\n"
   ]
  },
  {
   "cell_type": "markdown",
   "metadata": {
    "colab_type": "text",
    "id": "Wk1hWz2_nOIY"
   },
   "source": [
    "**ENTER YOUR WRITTEN EXPLANATION HERE.**<br>\n",
    "In our prediction, we guessed that 1 and 9 will appear the same amount of times as the last digit, which is correct. This is clearly shown in the bar graph, but also seen when looking at the number frequencies counted.\n",
    "As we look at the bar graph, we can see that each number between 1-9 appears almost the same amount of times for being the last digit. The numbers 1-9 all have a similiar and almost same frequency when counting the amount of times that specific number appears as the last digit. This is because since it is the last digit in a string, when it comes to identifying something like the voulume #/string, any number can have a possibilty of being at the end. It is very random and the numbers are placed as the last digit randomly. There isn't a usual or specific way of ending the strings like there is with beginning them so it can be any random number from 1-9 as the last digit of the string so that means that all numbers 1-9 will have about 10% possibility or an equal possibility of being the last digit, which is seen here that they had similar and almost equal frequencies of appearing as the lst digit in the string for volume."
   ]
  },
  {
   "cell_type": "markdown",
   "metadata": {
    "colab_type": "text",
    "id": "JSJYFTMAnOIZ"
   },
   "source": [
    "## Question 4\n",
    "\n",
    "Maybe the `volume` column was just a fluke. Let's see if the first digit distribution holds up when we look at a very different variable: the closing price of the stock. Make a visualization of the first digit distribution of the closing price (the `close` column of the `DataFrame`). Comment on what you see.\n",
    "\n",
    "(_Hint:_ What type did `pandas` infer this variable as and why? You will have to first clean the values using the [text processing functionalities](https://pandas.pydata.org/pandas-docs/stable/text.html) of `pandas` and then convert this variable to a quantitative variable.)"
   ]
  },
  {
   "cell_type": "code",
   "execution_count": 4,
   "metadata": {
    "colab": {},
    "colab_type": "code",
    "id": "8Xvx4HyhnOIa"
   },
   "outputs": [
    {
     "name": "stdout",
     "output_type": "stream",
     "text": [
      "1    171\n",
      "2     55\n",
      "3     52\n",
      "6     48\n",
      "4     43\n",
      "7     43\n",
      "5     39\n",
      "8     28\n",
      "9     26\n",
      "Name: close, dtype: int64\n"
     ]
    },
    {
     "data": {
      "image/png": "[encoded data removed]",
      "text/plain": [
       "<Figure size 432x288 with 1 Axes>"
      ]
     },
     "metadata": {
      "needs_background": "light"
     },
     "output_type": "display_data"
    }
   ],
   "source": [
    "# ENTER YOUR CODE HERE.\n",
    "df.close = df.close.apply(str)\n",
    "# print(df.dtypes)\n",
    "# Get the frequencey of each value of the series \"df.quantity.str[1]\"\n",
    "digit_frequency = df.close.str[1].value_counts()\n",
    "print(digit_frequency)\n",
    "import matplotlib.pyplot as plt\n",
    "%matplotlib inline\n",
    "plt.bar(digit_frequency.index,digit_frequency)\n",
    "plt.show()"
   ]
  },
  {
   "cell_type": "markdown",
   "metadata": {
    "colab_type": "text",
    "id": "S5EGwnx1nOIj"
   },
   "source": [
    "**ENTER YOUR WRITTEN EXPLANATION HERE.**<br>\n",
    "When looking at the graph, we can see that 1 as the starting digit appears way more than any other number in the closing price and 9 as the starting digit apprears the least again. There is a big drop from the frequency of 1 appearing as the first digit of the closing price to numbers 2-9. For numbers 2-9, there isn't that drastic of a difference in frequency between them as there is with them and the frequency of the number 1. There is only a slight difference and decrease as we go through and look at the frequency of numbers 2-9 respectively.\n",
    "We are looking at the cost column and each string in it. We are now looking for the first number in the string and not the first symbol. Since the first part/character of the string is the dollar sign symbol and we want to look at the first number in the string, we would put 1 in our code instead of 0 because the 0 in each string in the cost column would be the dollar symbol. So instead instead of putting 0 we put 1 in our code to account for the $ symbol in the cost column"
   ]
  },
  {
   "cell_type": "markdown",
   "metadata": {
    "colab_type": "text",
    "id": "N6klhgAUnOIk"
   },
   "source": [
    "## Submission Instructions\n",
    "\n",
    "Once you are finished, follow these steps:\n",
    "\n",
    "1. Restart the kernel and re-run this notebook from beginning to end by going to `Kernel > Restart Kernel and Run All Cells`.\n",
    "\n",
    "2. If this process stops halfway through, that means there was an error. Correct the error and repeat Step 1 until the notebook runs from beginning to end.\n",
    "\n",
    "3. Double check that there is a number next to each code cell and that these numbers are in order.\n",
    "\n",
    "Then, submit your lab as follows:\n",
    "\n",
    "1. Demo your lab to obtain credit.  \n",
    "\n",
    "2. Upload your .ipyn Notebook to iLearn and pdf to Gradescope."
   ]
  }
 ],
 "metadata": {
  "colab": {
   "collapsed_sections": [],
   "name": "1A. Distribution of First Digits.ipynb",
   "provenance": []
  },
  "kernelspec": {
   "display_name": "Python 3 (ipykernel)",
   "language": "python",
   "name": "python3"
  },
  "language_info": {
   "codemirror_mode": {
    "name": "ipython",
    "version": 3
   },
   "file_extension": ".py",
   "mimetype": "text/x-python",
   "name": "python",
   "nbconvert_exporter": "python",
   "pygments_lexer": "ipython3",
   "version": "3.9.7"
  }
 },
 "nbformat": 4,
 "nbformat_minor": 4
}
